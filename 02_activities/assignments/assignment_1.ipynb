{
 "cells": [
  {
   "cell_type": "markdown",
   "metadata": {},
   "source": [
    "# Coding Problems\n",
    "\n",
    "## Objective\n",
    "\n",
    "This assignment aims to demonstrate how to study a data structures or algorithms question in depth to prepare for an industry coding interview. Leetcode is a popular coding practice site that many use to practice for technical interviews. Like behavioral interviews, it's important to practice and keep your skills sharp.\n",
    "\n",
    "## Group Size\n",
    "\n",
    "Please complete this individually.\n",
    "\n",
    "## Part 1:\n",
    "\n",
    "_*You will be assigned one of three problems based of your first name. Enter your first name, in all lower case, execute the code below, and that will tell you your assigned problem. Include the output as part of your submission (do not clear the output). The problems are based-off problems from Leetcode.*_\n"
   ]
  },
  {
   "cell_type": "code",
   "execution_count": 1,
   "metadata": {},
   "outputs": [
    {
     "name": "stdout",
     "output_type": "stream",
     "text": [
      "2\n"
     ]
    }
   ],
   "source": [
    "import hashlib\n",
    "\n",
    "def hash_to_range(input_string: str) -> int:\n",
    "     hash_object = hashlib.sha256(input_string.encode())\n",
    "     hash_int = int(hash_object.hexdigest(), 16)\n",
    "     return (hash_int % 3) + 1\n",
    "input_string = \"prashant\"\n",
    "result = hash_to_range(input_string)\n",
    "print(result)\n"
   ]
  },
  {
   "cell_type": "markdown",
   "metadata": {},
   "source": [
    "<details>\n",
    "  <summary>Question 1</summary>\n",
    "\n",
    "  # Question One: Check Duplicates in Tree\n",
    "\n",
    "  Given the `root` of a binary tree, check whether it is contains a duplicate value. If a duplicate exists, return the duplicate value. If there are multiple duplicates, return the one with the closest distance to the root. If no duplicate exists, return -1.\n",
    "\n",
    "  ## Examples\n",
    "\n",
    "  ### Example 1\n",
    "\n",
    "  ![](./images/q1_ex1.png)\n",
    "\n",
    "  Input: `root = [1, 2, 2, 3, 5, 6, 7]` *What traversal method is this?*\n",
    "\n",
    "  Output: 2\n",
    "\n",
    "  ### Example 2\n",
    "\n",
    "  ![](./images/q1_ex2.png)\n",
    "\n",
    "  Input: `root = [1, 10, 2, 3, 10, 12, 12]`\n",
    "\n",
    "  Output: 10\n",
    "\n",
    "  ### Example 3\n",
    "\n",
    "  ![](./images/q1_ex3.png)\n",
    "\n",
    "  Input: `root = [10, 9, 8, 7]`\n",
    "\n",
    "  Output: -1\n",
    "\n",
    "</details>\n",
    "\n",
    "#### Starter Code for Question 1"
   ]
  },
  {
   "cell_type": "code",
   "execution_count": null,
   "metadata": {},
   "outputs": [],
   "source": [
    "# Definition for a binary tree node.\n",
    "# class TreeNode(object):\n",
    "#     def __init__(self, val = 0, left = None, right = None):\n",
    "#         self.val = val\n",
    "#         self.left = left\n",
    "#         self.right = right\n",
    "def is_duplicate(root: TreeNode) -> int:\n",
    "  # TODO"
   ]
  },
  {
   "cell_type": "markdown",
   "metadata": {},
   "source": [
    "<details>\n",
    "  <summary>Question 2</summary>\n",
    "\n",
    "  # Question Two: Path to Leaves\n",
    "\n",
    "  Given the `root` of a binary tree, return all root to leaf paths in any order.\n",
    "\n",
    "  ## Examples\n",
    "\n",
    "  ### Example 1\n",
    "\n",
    "  ![](./images/q1_ex1.png)\n",
    "\n",
    "  Input: `root = [1, 2, 2, 3, 5, 6, 7]` *What traversal method is this?*\n",
    "\n",
    "  Output: [[1, 2, 3], [1, 2, 5], [1, 2, 6], [1, 2, 7]]\n",
    "\n",
    "  ### Example 2\n",
    "\n",
    "  ![](./images/q1_ex3.png)\n",
    "\n",
    "  Input: `root = [10, 9, 7, 8]`\n",
    "\n",
    "  Output: [[10, 7], [10, 9, 8]]\n",
    "\n",
    "</details>\n",
    "\n",
    "#### Starter Code for Question 2"
   ]
  },
  {
   "cell_type": "code",
   "execution_count": null,
   "metadata": {},
   "outputs": [],
   "source": [
    "# Definition for a binary tree node.\n",
    "# class TreeNode(object):\n",
    "#     def __init__(self, val = 0, left = None, right = None):\n",
    "#         self.val = val\n",
    "#         self.left = left\n",
    "#         self.right = right\n",
    "def bt_path(root: TreeNode) -> List[List[int]]:\n",
    "  # TODO"
   ]
  },
  {
   "cell_type": "markdown",
   "metadata": {},
   "source": [
    "<details>\n",
    "  <summary>Question 3</summary>\n",
    "\n",
    "  # Question Three: Missing Number in Range\n",
    " \n",
    "  You are given a list containing `n` integers in the range `[0, n]`. Return a list of numbers that are missing from the range `[0, n]` of the array. If there is no missing number, return -1. Note, all the integers in the list may not be unique.\n",
    "  \n",
    "  ## Examples\n",
    "\n",
    "  ### Example 1\n",
    "\n",
    "  Input: `lst = [0, 2]`\n",
    "\n",
    "  Output: [1]\n",
    "\n",
    "  ### Example 2\n",
    "\n",
    "  Input: `lst = [5, 0, 1]`\n",
    "\n",
    "  Output: [2, 3, 4]\n",
    "\n",
    "  ### Example 3\n",
    "\n",
    "  Input: `lst = [6, 8, 2, 3, 5, 7, 0, 1, 10]`\n",
    "\n",
    "  Output: [4, 9]\n",
    "\n",
    "</details>\n",
    "\n",
    "#### Starter Code for Question 3\n"
   ]
  },
  {
   "cell_type": "code",
   "execution_count": null,
   "metadata": {},
   "outputs": [],
   "source": [
    "def missing_num(nums: List) -> int:\n",
    "  # TODO"
   ]
  },
  {
   "cell_type": "markdown",
   "metadata": {},
   "source": [
    "\n",
    "## Part 2:\n",
    "\n",
    "-   Paraphrase the problem in your own words\n"
   ]
  },
  {
   "cell_type": "markdown",
   "metadata": {},
   "source": [
    "# Your answer here\n",
    "\n",
    "> Given a binary tree, we want to list all the possible paths from the root of the tree to the leaf nodes.\n",
    "For each leaf node, there is only one path from the root to the node without repeating a node on the path.\n",
    "We can return the paths in any order."
   ]
  },
  {
   "cell_type": "markdown",
   "metadata": {},
   "source": [
    "- In this .ipynb file, there are examples that illustrate how the code should work (the examples provided above). Create 2 new examples for the question you have been assigned, that demonstrate you understand the problem. For question 1 and 2, you don't need to create the tree demonstration, just the input and output.\n"
   ]
  },
  {
   "cell_type": "markdown",
   "metadata": {},
   "source": [
    "# Your answer here\n",
    "> Example 1: Empty tree / root node is None\n",
    ">> Input: []\n",
    ">\n",
    ">> Output: []\n",
    "\n",
    "> Example 2:\n",
    ">> Input: [1, 2, 3, 4, 5, 6, 7, 8, 9]\n",
    ">\n",
    ">> Output: [[1, 2, 4, 8], [1, 2, 4, 9], [1, 2, 5], [1, 3, 6], [1, 3, 7]]"
   ]
  },
  {
   "cell_type": "markdown",
   "metadata": {},
   "source": [
    "\n",
    "-   Code the solution to your assigned problem in Python (code chunk). Try to find the best time and space complexity solution!\n"
   ]
  },
  {
   "cell_type": "code",
   "execution_count": 18,
   "metadata": {},
   "outputs": [
    {
     "name": "stdout",
     "output_type": "stream",
     "text": [
      "Solution is correct for input []\n",
      "Solution is correct for input [None]\n",
      "Solution is correct for input [1]\n",
      "Solution is correct for input [1, 2]\n",
      "Solution is correct for input [1, 2, 3]\n",
      "Solution is correct for input [1, None, 3]\n",
      "Solution is correct for input [1, None, None]\n",
      "Solution is correct for input [1, None, 3, None, None, 6]\n",
      "Solution is correct for input [1, 2, 3, None, None, 6]\n",
      "Solution is correct for input [1, 2, 3, 4, 5, 6, 7, 8, 9]\n",
      "Solution is correct for input [1, 2, 2, 3, 5, 6, 7]\n",
      "Solution is correct for input [10, 9, 7, 8]\n"
     ]
    }
   ],
   "source": [
    "# Your answer here\n",
    "from typing import List\n",
    "\n",
    "\n",
    "class TreeNode(object):\n",
    "    def __init__(self, val = 0, left = None, right = None):\n",
    "        self.val = val\n",
    "        self.left = left\n",
    "        self.right = right\n",
    "\n",
    "\n",
    "# Solution starts here -----------------------------------------------------------------------\n",
    "def _build_paths(cur_node: TreeNode, cur_path: List[int], all_paths: List[List[int]]) -> None:\n",
    "    if cur_node is None:\n",
    "        return\n",
    "    \n",
    "    cur_path.append(cur_node.val)\n",
    "    if cur_node.left is None and cur_node.right is None:\n",
    "        all_paths.append(cur_path[:])\n",
    "    else:\n",
    "        _build_paths(cur_node.left, cur_path, all_paths)\n",
    "        _build_paths(cur_node.right, cur_path, all_paths)\n",
    "    \n",
    "    cur_path.pop()\n",
    "\n",
    "\n",
    "def bt_path(root: TreeNode) -> List[List[int]]:\n",
    "    all_paths = []\n",
    "    _build_paths(root, [], all_paths)\n",
    "    return all_paths\n",
    "# Solution ends here -------------------------------------------------------------------------\n",
    "\n",
    "\n",
    "def _build_tree(input_node_values: List[int]) -> TreeNode:\n",
    "    root = None\n",
    "    level_size = 1\n",
    "    nodes_added_at_level = 0\n",
    "    parent_nodes = []\n",
    "\n",
    "    for node in input_node_values:\n",
    "        cur_node = TreeNode(node)\n",
    "        if root is None:\n",
    "            root = cur_node\n",
    "            parent_nodes.append(cur_node)\n",
    "            level_size *= 2\n",
    "            continue\n",
    "        \n",
    "        if nodes_added_at_level == level_size:\n",
    "            level_size *= 2\n",
    "            nodes_added_at_level = 0\n",
    "            new_parents = []\n",
    "            for parent in parent_nodes:\n",
    "                if parent.left is not None:\n",
    "                    new_parents.append(parent.left)\n",
    "                if parent.right is not None:\n",
    "                    new_parents.append(parent.right)\n",
    "            parent_nodes = new_parents\n",
    "\n",
    "        parent_index = nodes_added_at_level // 2\n",
    "        is_left_child = (nodes_added_at_level % 2) == 0\n",
    "        if is_left_child:\n",
    "            parent_nodes[parent_index].left = cur_node\n",
    "        else:\n",
    "            parent_nodes[parent_index].right = cur_node\n",
    "        nodes_added_at_level += 1\n",
    "    \n",
    "    # Clean up None subtrees\n",
    "    def _cleanup_tree(subtree_root: TreeNode) -> None:\n",
    "        if subtree_root is None or subtree_root.val is None:\n",
    "            return\n",
    "        if subtree_root.left is not None and subtree_root.left.val is None:\n",
    "            subtree_root.left = None\n",
    "        if subtree_root.right is not None and  subtree_root.right.val is None:\n",
    "            subtree_root.right = None\n",
    "        _cleanup_tree(subtree_root.left)\n",
    "        _cleanup_tree(subtree_root.right)\n",
    "    \n",
    "    if root is not None and root.val is None:\n",
    "        root = None\n",
    "    _cleanup_tree(root)\n",
    "\n",
    "    return root\n",
    "\n",
    "\n",
    "def validate_solution(input_node_values: List[int], expected_output: List[List[int]]) -> None:\n",
    "    root = _build_tree(input_node_values)\n",
    "\n",
    "    solution_output = bt_path(root)\n",
    "\n",
    "    def _is_solution_valid() -> bool:\n",
    "        if len(expected_output) != len(solution_output):\n",
    "            return False\n",
    "        \n",
    "        expected_path_set = set([tuple(path) for path in expected_output])\n",
    "        solution_output_set = set([tuple(path) for path in solution_output])\n",
    "\n",
    "        for expected_path in expected_path_set:\n",
    "            if expected_path not in solution_output_set:\n",
    "                return False\n",
    "        \n",
    "        return True\n",
    "    \n",
    "    print(\"Solution is\", end=\" \")\n",
    "    if not _is_solution_valid():\n",
    "        print(\"in\", end=\"\")\n",
    "    print(f\"correct for input {input_node_values}\")\n",
    "\n",
    "validate_solution([], [])  # My example 1\n",
    "validate_solution([None], [])\n",
    "validate_solution([1], [[1]])\n",
    "validate_solution([1, 2], [[1, 2]])\n",
    "validate_solution([1, 2, 3], [[1, 2], [1, 3]])\n",
    "validate_solution([1, None, 3], [[1, 3]])\n",
    "validate_solution([1, None, None], [[1]])\n",
    "validate_solution([1, None, 3, None, None, 6], [[1, 3, 6]])\n",
    "validate_solution([1, 2, 3, None, None, 6], [[1, 3, 6], [1, 2]])\n",
    "validate_solution([1, 2, 3, 4, 5, 6, 7, 8, 9], [[1, 2, 4, 8], [1, 2, 4, 9], [1, 2, 5], [1, 3, 6], [1, 3, 7]])  # My example 2\n",
    "validate_solution([1, 2, 2, 3, 5, 6, 7], [[1, 2, 3], [1, 2, 5], [1, 2, 6], [1, 2, 7]])  # Question example 1\n",
    "validate_solution([10, 9, 7, 8], [[10, 7], [10, 9, 8]])  # Question example 2\n"
   ]
  },
  {
   "cell_type": "markdown",
   "metadata": {},
   "source": [
    "\n",
    "-   Explain why your solution works\n"
   ]
  },
  {
   "cell_type": "markdown",
   "metadata": {},
   "source": [
    "# Your answer here\n",
    "> In my solution we traverse down each node in the tree starting from the root and add it to the current path.\n",
    "When we reach a leaf node, the path is completed and a copy of it is added to our answer.\n",
    "When we traverse up from a node, we remove it from the current path so that the path up to the parent node can be reused for the sibling.\n",
    "The solution works because we are able to track the root to leaf path for each leaf node as we traverse the tree."
   ]
  },
  {
   "cell_type": "markdown",
   "metadata": {},
   "source": [
    "\n",
    "-   Explain the problem’s time and space complexity\n"
   ]
  },
  {
   "cell_type": "markdown",
   "metadata": {},
   "source": [
    "# Your answer here\n",
    "> Time complexity: O(n * lg n) where n is the number of nodes in the tree.\n",
    ">> We traverse each node in the tree once which is a total of n nodes.\n",
    "For leaf nodes, (roughly, n/2 nodes in the worst case of full binary trees) we perform a linear time operation to copy the path from root to node to our answer.\n",
    "The root to leaf path length is lg n in this case.\n",
    "So the worst case time complexity is O( n/2 * lg n) = O(n * lg n)\n",
    "\n",
    "> Space complexity: O(n) where n is the number of nodes in the tree.\n",
    ">> Ignoring the size of the answer variable, O(n) space is used by the recursion function call stack in the worst case of a skewed tree. "
   ]
  },
  {
   "cell_type": "markdown",
   "metadata": {},
   "source": [
    "\n",
    "-   Explain the thinking to an alternative solution (no coding required, but a classmate reading this should be able to code it up based off your text)\n"
   ]
  },
  {
   "cell_type": "markdown",
   "metadata": {},
   "source": [
    "# Your answer here\n",
    "An alternative solution can be to follow a similar approach iteratively instead of recursively using an explicit stack.\n",
    "The algorithm would would work as follows:\n",
    "> 1. If the root is None then return an empty list as the answer\n",
    "\n",
    "> 2. Otherwise, initialize an empty list as a path_stack and another empty list as the answer all_paths\n",
    "\n",
    "> 3. Push root to the path_stack\n",
    "\n",
    "> 4. While the path_stack is not empty, repeat the following:\n",
    "\n",
    ">> 4.1. Initialize a variable cur_node pointing to the top of the stack\n",
    "\n",
    ">> 4.2. Check if the left and right children of cur_node are None\n",
    "\n",
    ">>> 4.2.1. If they are both None then we have a leaf node so do the following:\n",
    "\n",
    ">>>> 4.2.1.1. Add a copy of the path_stack to all_paths to add this to our answer\n",
    "\n",
    ">>>> 4.2.1.2. Pop the leaf node from the top of the stack and store it in popped_node\n",
    "\n",
    ">>>> 4.2.1.3. While the path_stack is not empty, repeat the following to traverse back up the tree to find the next path:\n",
    "\n",
    ">>>>> 4.2.1.3.1. Set cur_node to point to the top of the stack\n",
    "\n",
    ">>>>> 4.2.1.3.2. Now we check if the leaf we just processed was a left child or not by checking if the left child of cur_node is equal to the popped_node.\n",
    "\n",
    ">>>>>> 4.2.1.3.2.1. If this is true then we try to process the right subtree next by checking if the right child of cur_node is not None\n",
    "\n",
    ">>>>>>> 4.2.1.3.2.1.1. If this is true then add the right child of cur_node to the path_stack and stop traversing up the tree. Go to Step 4.2.1.4\n",
    "\n",
    ">>>>> 4.2.1.3.3. If the popped node was not a left child then it must've been a right child so we can continue traversing up as all paths in this subtree have been processed. To do this, pop the node at the top of the stack and store it in popped_node\n",
    "\n",
    ">>>> 4.2.1.4. After processing this leaf node and traversing up the tree, we should process the next node at the top of the path_stack. To do this, continue to the next iteration of the loop on Step 4\n",
    "\n",
    ">> 4.3. If the left child of cur_node is not None then push it to the path_stack and continue to the next iteration of the loop on Step 4\n",
    "\n",
    ">> 4.4. If the left child of cur_node is None and the right child of cur_node is not None then push it to the path_stack and continue to the next iteration of the loop on Step 4\n",
    "\n",
    "> 5. We now have our root to leaf paths in all_paths stored as TreeNodes. Iterate over these paths and create paths storing the val of each TreeNode and return these paths.\n"
   ]
  },
  {
   "cell_type": "markdown",
   "metadata": {},
   "source": [
    "## Evaluation Criteria\n",
    "\n",
    "-   Problem is accurately stated\n",
    "\n",
    "-   Two examples are correct and easily understandable\n",
    "\n",
    "-   Correctness, time, and space complexity of the coding solution\n",
    "\n",
    "-   Clarity in explaining why the solution works, its time and space complexity\n",
    "\n",
    "-   Clarity in the proposal to the alternative solution"
   ]
  },
  {
   "cell_type": "markdown",
   "metadata": {},
   "source": [
    "## Submission Information\n",
    "\n",
    "🚨 **Please review our [Assignment Submission Guide](https://github.com/UofT-DSI/onboarding/blob/main/onboarding_documents/submissions.md)** 🚨 for detailed instructions on how to format, branch, and submit your work. Following these guidelines is crucial for your submissions to be evaluated correctly.\n",
    "\n",
    "### Submission Parameters:\n",
    "* Submission Due Date: `HH:MM AM/PM - DD/MM/YYYY`\n",
    "* The branch name for your repo should be: `assignment-1`\n",
    "* What to submit for this assignment:\n",
    "    * This Jupyter Notebook (assignment_1.ipynb) should be populated and should be the only change in your pull request.\n",
    "* What the pull request link should look like for this assignment: `https://github.com/<your_github_username>/algorithms_and_data_structures/pull/<pr_id>`\n",
    "    * Open a private window in your browser. Copy and paste the link to your pull request into the address bar. Make sure you can see your pull request properly. This helps the technical facilitator and learning support staff review your submission easily.\n",
    "\n",
    "Checklist:\n",
    "- [ ] Create a branch called `assignment-1`.\n",
    "- [ ] Ensure that the repository is public.\n",
    "- [ ] Review [the PR description guidelines](https://github.com/UofT-DSI/onboarding/blob/main/onboarding_documents/submissions.md#guidelines-for-pull-request-descriptions) and adhere to them.\n",
    "- [ ] Verify that the link is accessible in a private browser window.\n",
    "\n",
    "If you encounter any difficulties or have questions, please don't hesitate to reach out to our team via our Slack at `#cohort-3-help`. Our Technical Facilitators and Learning Support staff are here to help you navigate any challenges."
   ]
  }
 ],
 "metadata": {
  "kernelspec": {
   "display_name": "Python 3",
   "language": "python",
   "name": "python3"
  },
  "language_info": {
   "codemirror_mode": {
    "name": "ipython",
    "version": 3
   },
   "file_extension": ".py",
   "mimetype": "text/x-python",
   "name": "python",
   "nbconvert_exporter": "python",
   "pygments_lexer": "ipython3",
   "version": "3.9.18"
  }
 },
 "nbformat": 4,
 "nbformat_minor": 2
}
